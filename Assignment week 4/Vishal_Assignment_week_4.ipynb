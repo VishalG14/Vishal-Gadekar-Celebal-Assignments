{
  "nbformat": 4,
  "nbformat_minor": 0,
  "metadata": {
    "colab": {
      "provenance": []
    },
    "kernelspec": {
      "name": "python3",
      "display_name": "Python 3"
    },
    "language_info": {
      "name": "python"
    }
  },
  "cells": [
    {
      "cell_type": "markdown",
      "source": [
        "Vishal Gadekar (PCET's NCER) Assignment week 4"
      ],
      "metadata": {
        "id": "jRC4JSoUaDCe"
      }
    },
    {
      "cell_type": "markdown",
      "source": [
        "#Applying Bayes' Theorem to a Medical Diagnosis Problem\n",
        "**Problem Statement**: Suppose a certain disease affects 1% of the population. There is a test for the disease which is 99% sensitive (true positive rate) and 95% specific (true negative rate). We need to find the probability that a person actually has the disease given that they tested positive.\n",
        "\n",
        "Given:\n",
        "\n",
        "P(D)=0.01 (*Prevalence of the disease*)\n",
        "\n",
        "P(T\n",
        "+\n",
        " ∣D)=0.99 (*Sensitivity*)\n",
        "\n",
        "\n",
        "\n",
        "P(T\n",
        "−\n",
        " ∣D\n",
        "−\n",
        " )=0.95 (*Specificity*)\n",
        "\n",
        " P(T\n",
        "+\n",
        " ∣D\n",
        "−\n",
        " ) (*Probability of a false positive*)\n",
        "\n",
        "P(T\n",
        "+\n",
        " ∣D\n",
        "−\n",
        " )\n",
        " = 1−P(T\n",
        "−\n",
        " ∣D\n",
        "−\n",
        " )\n",
        "\n",
        " =1−0.95=0.05"
      ],
      "metadata": {
        "id": "QkRc6NRlOH83"
      }
    },
    {
      "cell_type": "code",
      "source": [
        "import numpy as np\n",
        "import scipy.stats as stats"
      ],
      "metadata": {
        "id": "ohz1_ffQRXhm"
      },
      "execution_count": 8,
      "outputs": []
    },
    {
      "cell_type": "markdown",
      "source": [
        "1. Bayes' Theorem for Medical *Diagnosis*\n",
        "\n",
        "Using Bayes' Theorem:    \n",
        " P(D∣T\n",
        "+\n",
        " )=\n",
        "P(T\n",
        "+\n",
        " )\n",
        "P(T\n",
        "+\n",
        " ∣D)P(D)\n",
        "\n",
        "To find \\( P(T +) \\):\n",
        "\n",
        "\\[ P(T +) = P(T + | D)P(D) + P(T + | D -)P(D -) \\]\n",
        "\n",
        "\\[ P(T +) = (0.99 \\times 0.01) + (0.05 \\times 0.99) \\]\n",
        "\n",
        "\\[ P(T +) = 0.0099 + 0.0495 = ***0.0594*** \\]"
      ],
      "metadata": {
        "id": "NQ95Ipf9Ki07"
      }
    },
    {
      "cell_type": "code",
      "execution_count": 9,
      "metadata": {
        "id": "ghPwB1Z7KGCd"
      },
      "outputs": [],
      "source": [
        "P_D = 0.01\n",
        "P_T_given_D = 0.99\n",
        "P_T_given_not_D = 0.05\n",
        "P_not_D = 1 - P_D\n",
        "P_T = (P_T_given_D * P_D) + (P_T_given_not_D * P_not_D)\n",
        "P_D_given_T = (P_T_given_D * P_D) / P_T"
      ]
    },
    {
      "cell_type": "markdown",
      "source": [
        "2. Eigenvalues and Eigenvectors\n",
        "\n",
        "Matrix:\n",
        "\\[ A = \\begin{pmatrix} 4 & 1 \\\\ 2 & 3 \\end{pmatrix} \\]\n",
        "\n",
        "To find the eigenvalues \\(λ\\), we solve the characteristic equation:\n",
        "\\[ (A - λ I) = 0 \\]\n",
        "\n",
        "\\[ \\begin{vmatrix} 4 - λ & 1 \\\\ 2 & 3 - λ \\end{vmatrix} = 0 \\]\n",
        "\n",
        "\\[ (4 - λ)(3 - λ) - 2 · 1 = 0 \\]\n",
        "\n",
        "\\[ λ^2 - 7λ + 10 = 0 \\]\n",
        "\n",
        "\\[ (λ - 5)(λ - 2) = 0 \\]\n",
        "\n",
        "\n",
        "So, the eigenvalues are \\(λ_1 = 5\\) and \\(λ_2 = 2\\).\n",
        "\n",
        "\n",
        "Now find the eigenvectors for each eigenvalue.\n",
        "\n",
        "For \\(λ_1 = 5\\):\n",
        "\\[ (A - 5I)v = 0 \\]\n",
        "\n",
        "\\[ \\begin{pmatrix} -1 & 1 \\\\ 2 & -2 \\end{pmatrix} \\begin{pmatrix} x \\\\ y \\end{pmatrix} = \\begin{pmatrix} 0 \\\\ 0 \\end{pmatrix} \\]\n",
        "\n",
        "\\[ -x + y = 0 \\]\n",
        "\n",
        "\\[ y = x \\]\n",
        "\n",
        "\n",
        "Eigenvector corresponding to \\(λ_1 = 5\\) is \\( v_1 = k \\begin{pmatrix} 1 \\\\ 1 \\end{pmatrix} \\).\n",
        "\n",
        "For \\(λ_2 = 2\\):\n",
        "\\[ (A - 2I)v = 0 \\]\n",
        "\\[ \\begin{pmatrix} 2 & 1 \\\\ 2 & 1 \\end{pmatrix} \\begin{pmatrix} x \\\\ y \\end{pmatrix} = \\begin{pmatrix} 0 \\\\ 0 \\end{pmatrix} \\]\n",
        "\n",
        "\\[ 2x + y = 0 \\]\n",
        "\n",
        "\\[ y = -2x \\]\n",
        "\n",
        "Eigenvector corresponding to \\(λ_2 = 2\\) is \\( v_2 = k \\begin{pmatrix} 1 \\\\ -2 \\end{pmatrix} \\)."
      ],
      "metadata": {
        "id": "kC4sawM_Kdk-"
      }
    },
    {
      "cell_type": "code",
      "source": [
        "A = np.array([[4, 1], [2, 3]])\n",
        "eigenvalues, eigenvectors = np.linalg.eig(A)"
      ],
      "metadata": {
        "id": "vU_sGs-oKUO4"
      },
      "execution_count": 10,
      "outputs": []
    },
    {
      "cell_type": "markdown",
      "source": [
        "3. Determinant and Inverse of a 3x3 Matrix\n",
        "\n",
        "Matrix:\n",
        "\\[ B = \\begin{pmatrix} 1 & 2 & 3 \\\\ 0 & 1 & 4 \\\\ 5 & 6 & 0 \\end{pmatrix} \\]\n",
        "\n",
        "The determinant \\(**det**(B)\\) is:\n",
        "\n",
        "\\[ **det**(B) = 1 · (1 · 0 - 4 · 6) - 2 · (0 · 0 - 4 · 5) + 3 · (0 · 6 - 1 · 5) \\]\n",
        "\n",
        "\\[ **det**(B) = 1 · (0 - 24) - 2 · (0 - 20) + 3 · (0 - 5) \\]\n",
        "\n",
        "\\[ **det**(B) = -24 + 40 - 15 \\]\n",
        "\n",
        "\\[ **det**(B) = 1 \\]\n",
        "\n",
        "\n",
        "Since \\(**det**(B) =! 0\\), \\( B \\) is invertible. We can find the inverse using the formula:\n",
        "\\[ B^{-1} = (1/**det**(B)) **adj**(B) \\]\n",
        "\n",
        "\n",
        "The adjugate matrix \\(**adj**(B)\\) is the transpose of the cofactor matrix. We calculate the cofactors and then transpose.\n",
        "\n",
        "\n",
        "Cofactors of \\( B \\):\n",
        "\\[ C_{11} = **det** \\begin{pmatrix} 1 & 4 \\\\ 6 & 0 \\end{pmatrix} = -24 \\]\n",
        "\\[ C_{12} = -**det** \\begin{pmatrix} 0 & 4 \\\\ 5 & 0 \\end{pmatrix} = -20 \\]\n",
        "\\[ C_{13} = **det** \\begin{pmatrix} 0 & 1 \\\\ 5 & 6 \\end{pmatrix} = -5 \\]\n",
        "\\[ C_{21} = -**det** \\begin{pmatrix} 2 & 3 \\\\ 6 & 0 \\end{pmatrix} = 18 \\]\n",
        "\\[ C_{22} = **det** \\begin{pmatrix} 1 & 3 \\\\ 5 & 0 \\end{pmatrix} = -15 \\]\n",
        "\\[ C_{23} = -**det** \\begin{pmatrix} 1 & 2 \\\\ 5 & 6 \\end{pmatrix} = 4 \\]\n",
        "\\[ C_{31} = **det** \\begin{pmatrix} 2 & 3 \\\\ 1 & 4 \\end{pmatrix} = 5 \\]\n",
        "\\[ C_{32} = -**det** \\begin{pmatrix} 1 & 3 \\\\ 0 & 4 \\end{pmatrix} = -4 \\]\n",
        "\\[ C_{33} = **det** \\begin{pmatrix} 1 & 2 \\\\ 0 & 1 \\end{pmatrix} = 1 \\]\n",
        "\n",
        "So, the cofactor matrix is:\n",
        "\\[ **Cof**(B) = \\begin{pmatrix} -24 & -20 & -5 \\\\ 18 & -15 & 4 \\\\ 5 & -4 & 1 \\end{pmatrix} \\]\n",
        "\n",
        "Transposing gives the adjugate matrix:\n",
        "\\[ **adj**(B) = \\begin{pmatrix} -24 & 18 & 5 \\\\ -20 & -15 & -4 \\\\ -5 & 4 & 1 \\end{pmatrix} \\]\n",
        "\n",
        "Finally, the inverse is:\n",
        "\\[ B^{-1} = 1/1(\n",
        "\n",
        "  \n",
        " \\begin{pmatrix} -24 & 18 & 5 \\\\ -20 & -15 & -4 \\\\ -5 & 4 & 1 \\end{pmatrix} )\n",
        "\n",
        " = \\begin{pmatrix} -24 & 18 & 5 \\\\ -20 & -15 & -4 \\\\ -5 & 4 & 1 \\end{pmatrix} ]"
      ],
      "metadata": {
        "id": "mirrAborKby_"
      }
    },
    {
      "cell_type": "code",
      "source": [
        "B = np.array([[1, 2, 3], [0, 1, 4], [5, 6, 0]])\n",
        "det_B = np.linalg.det(B)\n",
        "inverse_B = np.linalg.inv(B) if det_B != 0 else None"
      ],
      "metadata": {
        "id": "8xZ6NUN4KVpI"
      },
      "execution_count": 11,
      "outputs": []
    },
    {
      "cell_type": "markdown",
      "source": [
        "4. Normal Distribution Probability"
      ],
      "metadata": {
        "id": "xa96zc4jKZLP"
      }
    },
    {
      "cell_type": "code",
      "source": [
        "mu = 100\n",
        "sigma = 15\n",
        "X = 120\n",
        "z = (X - mu) / sigma\n",
        "probability = stats.norm.cdf(z)\n",
        "\n",
        "P_D_given_T, eigenvalues, eigenvectors, det_B, inverse_B, probability"
      ],
      "metadata": {
        "colab": {
          "base_uri": "https://localhost:8080/"
        },
        "id": "291L0Tk0KW5u",
        "outputId": "f776307a-65c7-4129-c510-4f0e12f68d30"
      },
      "execution_count": 18,
      "outputs": [
        {
          "output_type": "execute_result",
          "data": {
            "text/plain": [
              "(0.16666666666666669,\n",
              " array([5., 2.]),\n",
              " array([[ 0.70710678, -0.4472136 ],\n",
              "        [ 0.70710678,  0.89442719]]),\n",
              " 0.9999999999999964,\n",
              " array([[-24.,  18.,   5.],\n",
              "        [ 20., -15.,  -4.],\n",
              "        [ -5.,   4.,   1.]]),\n",
              " 0.9087887802741321)"
            ]
          },
          "metadata": {},
          "execution_count": 18
        }
      ]
    },
    {
      "cell_type": "markdown",
      "source": [
        "So, the probability that X is less than 120 is approximately ***90.82%***."
      ],
      "metadata": {
        "id": "88t1P90YZf8C"
      }
    }
  ]
}