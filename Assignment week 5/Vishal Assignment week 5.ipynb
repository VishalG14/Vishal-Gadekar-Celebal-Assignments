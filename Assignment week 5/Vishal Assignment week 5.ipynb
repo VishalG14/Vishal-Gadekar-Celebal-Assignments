{
  "cells": [
    {
      "cell_type": "code",
      "execution_count": null,
      "id": "9052b884",
      "metadata": {
        "id": "9052b884"
      },
      "outputs": [],
      "source": [
        "import pandas as pd\n",
        "df = pd.read_csv('titanic.csv')\n"
      ]
    },
    {
      "cell_type": "code",
      "execution_count": null,
      "id": "45075aee",
      "metadata": {
        "id": "45075aee",
        "outputId": "490fa647-70e6-4d47-80ea-9bb294ab62ae"
      },
      "outputs": [
        {
          "name": "stdout",
          "output_type": "stream",
          "text": [
            "<class 'pandas.core.frame.DataFrame'>\n",
            "RangeIndex: 891 entries, 0 to 890\n",
            "Data columns (total 12 columns):\n",
            " #   Column       Non-Null Count  Dtype  \n",
            "---  ------       --------------  -----  \n",
            " 0   PassengerId  891 non-null    int64  \n",
            " 1   Survived     891 non-null    int64  \n",
            " 2   Pclass       891 non-null    int64  \n",
            " 3   Name         891 non-null    object \n",
            " 4   Sex          891 non-null    object \n",
            " 5   Age          714 non-null    float64\n",
            " 6   SibSp        891 non-null    int64  \n",
            " 7   Parch        891 non-null    int64  \n",
            " 8   Ticket       891 non-null    object \n",
            " 9   Fare         891 non-null    float64\n",
            " 10  Cabin        204 non-null    object \n",
            " 11  Embarked     889 non-null    object \n",
            "dtypes: float64(2), int64(5), object(5)\n",
            "memory usage: 83.7+ KB\n"
          ]
        }
      ],
      "source": [
        "# Display the first few rows of the dataset\n",
        "df.head()\n",
        "\n",
        "# Display summary statistics\n",
        "df.describe()\n",
        "\n",
        "# Display information about the dataset\n",
        "df.info()\n"
      ]
    },
    {
      "cell_type": "code",
      "execution_count": null,
      "id": "19ea37fb",
      "metadata": {
        "id": "19ea37fb"
      },
      "outputs": [],
      "source": [
        "#cleaning\n",
        "df.duplicated().sum()\n",
        "df = df.drop(columns=['PassengerId', 'Name', 'Ticket'])\n"
      ]
    },
    {
      "cell_type": "code",
      "execution_count": null,
      "id": "1cba3b02",
      "metadata": {
        "id": "1cba3b02"
      },
      "outputs": [],
      "source": [
        "df.isnull().sum()\n",
        "df['Age'] = df['Age'].fillna(df['Age'].median())\n",
        "df['Embarked'] = df['Embarked'].fillna(df['Embarked'].mode()[0])\n",
        "df = df.drop(columns=['Cabin'])\n"
      ]
    },
    {
      "cell_type": "code",
      "execution_count": null,
      "id": "18406718",
      "metadata": {
        "id": "18406718"
      },
      "outputs": [],
      "source": [
        "# Create a new column 'FamilySize' from 'SibSp' and 'Parch'\n",
        "df['FamilySize'] = df['SibSp'] + df['Parch'] + 1\n",
        "\n",
        "# Drop the original 'SibSp' and 'Parch' columns\n",
        "df = df.drop(columns=['SibSp', 'Parch'])"
      ]
    },
    {
      "cell_type": "code",
      "execution_count": null,
      "id": "a52f7d4d",
      "metadata": {
        "id": "a52f7d4d"
      },
      "outputs": [],
      "source": [
        "from sklearn.preprocessing import StandardScaler\n",
        "num_features = ['Age', 'Fare', 'FamilySize']\n",
        "m_features = ['Age', 'Fare', 'FamilySize']\n",
        "df[num_features] = scaler.fit_transform(df[num_features])"
      ]
    },
    {
      "cell_type": "code",
      "execution_count": null,
      "id": "c00b5c64",
      "metadata": {
        "id": "c00b5c64",
        "outputId": "8f24d901-b416-4854-c775-f8fc8984ae4d"
      },
      "outputs": [
        {
          "name": "stderr",
          "output_type": "stream",
          "text": [
            "C:\\Users\\vighn\\anaconda3\\lib\\site-packages\\sklearn\\preprocessing\\_encoders.py:828: FutureWarning: `sparse` was renamed to `sparse_output` in version 1.2 and will be removed in 1.4. `sparse_output` is ignored unless you leave `sparse` to its default value.\n",
            "  warnings.warn(\n"
          ]
        }
      ],
      "source": [
        "from sklearn.preprocessing import OneHotEncoder\n",
        "\n",
        "# List of categorical features to encode\n",
        "cat_features = ['Sex', 'Embarked']\n",
        "\n",
        "# Initialize the encoder\n",
        "encoder = OneHotEncoder(sparse=False, drop='first')\n",
        "\n",
        "# Fit and transform the categorical features\n",
        "encoded_features = pd.DataFrame(encoder.fit_transform(df[cat_features]), columns=encoder.get_feature_names_out(cat_features))\n",
        "\n",
        "# Drop original categorical columns and concatenate the encoded features\n",
        "df = df.drop(columns=cat_features)\n",
        "df = pd.concat([df, encoded_features], axis=1)"
      ]
    },
    {
      "cell_type": "code",
      "execution_count": null,
      "id": "513d1199",
      "metadata": {
        "id": "513d1199"
      },
      "outputs": [],
      "source": [
        "df['IsAlone'] = (df['FamilySize'] == 1).astype(int)\n",
        "\n",
        "# Drop 'FamilySize' if not needed anymore\n",
        "df = df.drop(columns=['FamilySize'])"
      ]
    },
    {
      "cell_type": "code",
      "execution_count": null,
      "id": "f04412e4",
      "metadata": {
        "id": "f04412e4",
        "outputId": "f8fd5344-2086-491e-9ffe-8329b44be060"
      },
      "outputs": [
        {
          "data": {
            "text/html": [
              "<div>\n",
              "<style scoped>\n",
              "    .dataframe tbody tr th:only-of-type {\n",
              "        vertical-align: middle;\n",
              "    }\n",
              "\n",
              "    .dataframe tbody tr th {\n",
              "        vertical-align: top;\n",
              "    }\n",
              "\n",
              "    .dataframe thead th {\n",
              "        text-align: right;\n",
              "    }\n",
              "</style>\n",
              "<table border=\"1\" class=\"dataframe\">\n",
              "  <thead>\n",
              "    <tr style=\"text-align: right;\">\n",
              "      <th></th>\n",
              "      <th>Survived</th>\n",
              "      <th>Pclass</th>\n",
              "      <th>Age</th>\n",
              "      <th>Fare</th>\n",
              "      <th>Sex_male</th>\n",
              "      <th>Embarked_Q</th>\n",
              "      <th>Embarked_S</th>\n",
              "      <th>IsAlone</th>\n",
              "    </tr>\n",
              "  </thead>\n",
              "  <tbody>\n",
              "    <tr>\n",
              "      <th>0</th>\n",
              "      <td>0</td>\n",
              "      <td>3</td>\n",
              "      <td>-0.565736</td>\n",
              "      <td>-0.502445</td>\n",
              "      <td>1.0</td>\n",
              "      <td>0.0</td>\n",
              "      <td>1.0</td>\n",
              "      <td>0</td>\n",
              "    </tr>\n",
              "    <tr>\n",
              "      <th>1</th>\n",
              "      <td>1</td>\n",
              "      <td>1</td>\n",
              "      <td>0.663861</td>\n",
              "      <td>0.786845</td>\n",
              "      <td>0.0</td>\n",
              "      <td>0.0</td>\n",
              "      <td>0.0</td>\n",
              "      <td>0</td>\n",
              "    </tr>\n",
              "    <tr>\n",
              "      <th>2</th>\n",
              "      <td>1</td>\n",
              "      <td>3</td>\n",
              "      <td>-0.258337</td>\n",
              "      <td>-0.488854</td>\n",
              "      <td>0.0</td>\n",
              "      <td>0.0</td>\n",
              "      <td>1.0</td>\n",
              "      <td>0</td>\n",
              "    </tr>\n",
              "    <tr>\n",
              "      <th>3</th>\n",
              "      <td>1</td>\n",
              "      <td>1</td>\n",
              "      <td>0.433312</td>\n",
              "      <td>0.420730</td>\n",
              "      <td>0.0</td>\n",
              "      <td>0.0</td>\n",
              "      <td>1.0</td>\n",
              "      <td>0</td>\n",
              "    </tr>\n",
              "    <tr>\n",
              "      <th>4</th>\n",
              "      <td>0</td>\n",
              "      <td>3</td>\n",
              "      <td>0.433312</td>\n",
              "      <td>-0.486337</td>\n",
              "      <td>1.0</td>\n",
              "      <td>0.0</td>\n",
              "      <td>1.0</td>\n",
              "      <td>0</td>\n",
              "    </tr>\n",
              "  </tbody>\n",
              "</table>\n",
              "</div>"
            ],
            "text/plain": [
              "   Survived  Pclass       Age      Fare  Sex_male  Embarked_Q  Embarked_S  \\\n",
              "0         0       3 -0.565736 -0.502445       1.0         0.0         1.0   \n",
              "1         1       1  0.663861  0.786845       0.0         0.0         0.0   \n",
              "2         1       3 -0.258337 -0.488854       0.0         0.0         1.0   \n",
              "3         1       1  0.433312  0.420730       0.0         0.0         1.0   \n",
              "4         0       3  0.433312 -0.486337       1.0         0.0         1.0   \n",
              "\n",
              "   IsAlone  \n",
              "0        0  \n",
              "1        0  \n",
              "2        0  \n",
              "3        0  \n",
              "4        0  "
            ]
          },
          "execution_count": 11,
          "metadata": {},
          "output_type": "execute_result"
        }
      ],
      "source": [
        "df.head()"
      ]
    },
    {
      "cell_type": "code",
      "execution_count": null,
      "id": "02a5419c",
      "metadata": {
        "id": "02a5419c"
      },
      "outputs": [],
      "source": []
    }
  ],
  "metadata": {
    "kernelspec": {
      "display_name": "Python 3 (ipykernel)",
      "language": "python",
      "name": "python3"
    },
    "language_info": {
      "codemirror_mode": {
        "name": "ipython",
        "version": 3
      },
      "file_extension": ".py",
      "mimetype": "text/x-python",
      "name": "python",
      "nbconvert_exporter": "python",
      "pygments_lexer": "ipython3",
      "version": "3.10.9"
    },
    "colab": {
      "provenance": []
    }
  },
  "nbformat": 4,
  "nbformat_minor": 5
}